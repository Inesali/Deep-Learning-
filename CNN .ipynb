{
 "cells": [
  {
   "cell_type": "markdown",
   "metadata": {},
   "source": [
    "# Changing directory structure"
   ]
  },
  {
   "cell_type": "code",
   "execution_count": 54,
   "metadata": {},
   "outputs": [],
   "source": [
    "import os\n",
    "import shutil\n",
    "import glob"
   ]
  },
  {
   "cell_type": "code",
   "execution_count": 55,
   "metadata": {},
   "outputs": [],
   "source": [
    "train_dir= r\"C:\\Users\\inesa\\Desktop\\Cours\\Semestre 3\\DL\\arabic_handwritten_data\\data\\train_data\""
   ]
  },
  {
   "cell_type": "code",
   "execution_count": 56,
   "metadata": {},
   "outputs": [],
   "source": [
    "test_dir=r\"C:\\Users\\inesa\\Desktop\\Cours\\Semestre 3\\DL\\arabic_handwritten_data\\data\\test_data\""
   ]
  },
  {
   "cell_type": "code",
   "execution_count": 57,
   "metadata": {},
   "outputs": [],
   "source": [
    "arabic_mnist_labels= ['alef', 'beh', 'teh', 'theh', 'jeem', 'hah', 'khah', 'dal', 'thal',\n",
    "                    'reh', 'zain', 'seen', 'sheen', 'sad', 'dad', 'tah', 'zah', 'ain',\n",
    "                    'ghain', 'feh', 'qaf', 'kaf', 'lam', 'meem', 'noon', 'heh', 'waw', 'yeh']"
   ]
  },
  {
   "cell_type": "code",
   "execution_count": 58,
   "metadata": {},
   "outputs": [],
   "source": [
    "def movefile(srcDir, dstDir, i ):\n",
    "    # Check if both the are directories\n",
    "    if os.path.isdir(srcDir) and os.path.isdir(dstDir) :\n",
    "        # Iterate over all the files in source directory\n",
    "        for filePath in glob.glob(srcDir + '\\*_label_'+ str(i+1)+'.png'):\n",
    "            # Move each file to destination Directory\n",
    "            shutil.move(filePath, dstDir);\n",
    "    else:\n",
    "        print(\"srcDir & dstDir should be Directories\")"
   ]
  },
  {
   "cell_type": "code",
   "execution_count": 46,
   "metadata": {},
   "outputs": [
    {
     "ename": "NameError",
     "evalue": "name 'arabic_mnist_labels' is not defined",
     "output_type": "error",
     "traceback": [
      "\u001b[1;31m---------------------------------------------------------------------------\u001b[0m",
      "\u001b[1;31mNameError\u001b[0m                                 Traceback (most recent call last)",
      "\u001b[1;32m<ipython-input-46-4405420d1e8a>\u001b[0m in \u001b[0;36m<module>\u001b[1;34m\u001b[0m\n\u001b[1;32m----> 1\u001b[1;33m \u001b[1;32mfor\u001b[0m \u001b[0mi\u001b[0m \u001b[1;32min\u001b[0m \u001b[0mrange\u001b[0m\u001b[1;33m(\u001b[0m\u001b[0mlen\u001b[0m\u001b[1;33m(\u001b[0m\u001b[0marabic_mnist_labels\u001b[0m\u001b[1;33m)\u001b[0m\u001b[1;33m)\u001b[0m\u001b[1;33m:\u001b[0m\u001b[1;33m\u001b[0m\u001b[1;33m\u001b[0m\u001b[0m\n\u001b[0m\u001b[0;32m      2\u001b[0m     \u001b[0mdirectory\u001b[0m\u001b[1;33m=\u001b[0m \u001b[0marabic_mnist_labels\u001b[0m\u001b[1;33m[\u001b[0m\u001b[0mi\u001b[0m\u001b[1;33m]\u001b[0m\u001b[1;33m\u001b[0m\u001b[1;33m\u001b[0m\u001b[0m\n\u001b[0;32m      3\u001b[0m     \u001b[0mpath\u001b[0m\u001b[1;33m=\u001b[0m \u001b[0mos\u001b[0m\u001b[1;33m.\u001b[0m\u001b[0mpath\u001b[0m\u001b[1;33m.\u001b[0m\u001b[0mjoin\u001b[0m\u001b[1;33m(\u001b[0m\u001b[0mtrain_dir\u001b[0m\u001b[1;33m,\u001b[0m \u001b[0mdirectory\u001b[0m\u001b[1;33m)\u001b[0m\u001b[1;33m\u001b[0m\u001b[1;33m\u001b[0m\u001b[0m\n\u001b[0;32m      4\u001b[0m     \u001b[0mpath2\u001b[0m\u001b[1;33m=\u001b[0m \u001b[0mos\u001b[0m\u001b[1;33m.\u001b[0m\u001b[0mpath\u001b[0m\u001b[1;33m.\u001b[0m\u001b[0mjoin\u001b[0m\u001b[1;33m(\u001b[0m\u001b[0mtest_dir\u001b[0m \u001b[1;33m,\u001b[0m \u001b[0mdirectory\u001b[0m\u001b[1;33m)\u001b[0m\u001b[1;33m\u001b[0m\u001b[1;33m\u001b[0m\u001b[0m\n\u001b[0;32m      5\u001b[0m     \u001b[0mos\u001b[0m\u001b[1;33m.\u001b[0m\u001b[0mmkdir\u001b[0m\u001b[1;33m(\u001b[0m\u001b[0mpath\u001b[0m\u001b[1;33m)\u001b[0m\u001b[1;33m\u001b[0m\u001b[1;33m\u001b[0m\u001b[0m\n",
      "\u001b[1;31mNameError\u001b[0m: name 'arabic_mnist_labels' is not defined"
     ]
    }
   ],
   "source": [
    "for i in range(len(arabic_mnist_labels)):\n",
    "    directory= arabic_mnist_labels[i]\n",
    "    path= os.path.join(train_dir, directory)\n",
    "    path2= os.path.join(test_dir , directory)\n",
    "    os.mkdir(path) \n",
    "    os.mkdir(path2)\n",
    "    movefile(train_dir,path,i)  \n",
    "    movefile(test_dir,path2,i)"
   ]
  },
  {
   "cell_type": "code",
   "execution_count": 59,
   "metadata": {},
   "outputs": [
    {
     "name": "stdout",
     "output_type": "stream",
     "text": [
      "total training rock images: 480\n"
     ]
    }
   ],
   "source": [
    "alef=\"alef\"\n",
    "alef_dir=os.path.join(train_dir,alef)\n",
    "print('total training rock images:', len(os.listdir(alef_dir)))"
   ]
  },
  {
   "cell_type": "code",
   "execution_count": 60,
   "metadata": {},
   "outputs": [
    {
     "name": "stdout",
     "output_type": "stream",
     "text": [
      "total training rock images: 480\n"
     ]
    }
   ],
   "source": [
    "beh=\"beh\"\n",
    "beh_dir=os.path.join(train_dir,beh)\n",
    "print('total training rock images:', len(os.listdir(beh_dir)))"
   ]
  },
  {
   "cell_type": "code",
   "execution_count": 61,
   "metadata": {},
   "outputs": [],
   "source": [
    "%matplotlib inline\n",
    "\n",
    "import matplotlib.pyplot as plt\n",
    "import matplotlib.image as mpimg\n",
    "\n",
    "pic_index = 2"
   ]
  },
  {
   "cell_type": "code",
   "execution_count": 62,
   "metadata": {},
   "outputs": [],
   "source": [
    "alef_files = os.listdir(alef_dir)\n",
    "\n",
    "beh_files = os.listdir(beh_dir)\n"
   ]
  },
  {
   "cell_type": "code",
   "execution_count": 63,
   "metadata": {},
   "outputs": [
    {
     "data": {
      "image/png": "[encoded data removed]",
      "text/plain": [
       "<Figure size 432x288 with 1 Axes>"
      ]
     },
     "metadata": {
      "needs_background": "light"
     },
     "output_type": "display_data"
    },
    {
     "data": {
      "image/png": "[encoded data removed]",
      "text/plain": [
       "<Figure size 432x288 with 1 Axes>"
      ]
     },
     "metadata": {
      "needs_background": "light"
     },
     "output_type": "display_data"
    },
    {
     "data": {
      "image/png": "[encoded data removed]",
      "text/plain": [
       "<Figure size 432x288 with 1 Axes>"
      ]
     },
     "metadata": {
      "needs_background": "light"
     },
     "output_type": "display_data"
    },
    {
     "data": {
      "image/png": "[encoded data removed]",
      "text/plain": [
       "<Figure size 432x288 with 1 Axes>"
      ]
     },
     "metadata": {
      "needs_background": "light"
     },
     "output_type": "display_data"
    }
   ],
   "source": [
    "next_alef = [os.path.join(alef_dir, fname) \n",
    "                for fname in alef_files[pic_index-2:pic_index]]\n",
    "next_beh = [os.path.join(beh_dir, fname) \n",
    "                for fname in beh_files[pic_index-2:pic_index]]\n",
    "\n",
    "for i, img_path in enumerate(next_alef+next_beh):\n",
    "  #print(img_path)\n",
    "  img = mpimg.imread(img_path)\n",
    "  plt.imshow(img)\n",
    "  plt.axis('Off')\n",
    "  plt.show()"
   ]
  },
  {
   "cell_type": "code",
   "execution_count": null,
   "metadata": {},
   "outputs": [],
   "source": [
    "\n",
    "\n"
   ]
  },
  {
   "cell_type": "code",
   "execution_count": null,
   "metadata": {},
   "outputs": [],
   "source": []
  },
  {
   "cell_type": "code",
   "execution_count": null,
   "metadata": {},
   "outputs": [],
   "source": []
  },
  {
   "cell_type": "code",
   "execution_count": null,
   "metadata": {},
   "outputs": [],
   "source": []
  },
  {
   "cell_type": "markdown",
   "metadata": {},
   "source": [
    "# With Data Augmentation"
   ]
  },
  {
   "cell_type": "code",
   "execution_count": 64,
   "metadata": {},
   "outputs": [],
   "source": [
    "import tensorflow as tf\n",
    "import keras_preprocessing\n",
    "from keras_preprocessing import image\n",
    "from keras_preprocessing.image import ImageDataGenerator"
   ]
  },
  {
   "cell_type": "code",
   "execution_count": 11,
   "metadata": {},
   "outputs": [
    {
     "name": "stdout",
     "output_type": "stream",
     "text": [
      "Found 13440 images belonging to 28 classes.\n",
      "Found 3360 images belonging to 28 classes.\n"
     ]
    }
   ],
   "source": [
    "TRAINING_DIR = \"C:/Users/inesa/Desktop/Cours/Semestre 3/DL/arabic_handwritten_data/data/train_data/\"\n",
    "training_datagen = ImageDataGenerator(\n",
    "      rescale = 1./255,\n",
    "\t    rotation_range=40,\n",
    "      width_shift_range=0.2,\n",
    "      height_shift_range=0.2,\n",
    "      shear_range=0.2,\n",
    "      zoom_range=0.2,\n",
    "      horizontal_flip=True,\n",
    "      fill_mode='nearest')\n",
    "\n",
    "VALIDATION_DIR = \"C:/Users/inesa/Desktop/Cours/Semestre 3/DL/arabic_handwritten_data/data/test_data/\"\n",
    "validation_datagen = ImageDataGenerator(rescale = 1./255)\n",
    "\n",
    "train_generator = training_datagen.flow_from_directory(\n",
    "\tTRAINING_DIR,\n",
    "\ttarget_size=(150,150),\n",
    "\tclass_mode='categorical',\n",
    "  batch_size=126\n",
    ")\n",
    "\n",
    "validation_generator = validation_datagen.flow_from_directory(\n",
    "\tVALIDATION_DIR,\n",
    "\ttarget_size=(150,150),\n",
    "\tclass_mode='categorical',\n",
    "  batch_size=126\n",
    ")"
   ]
  },
  {
   "cell_type": "code",
   "execution_count": 12,
   "metadata": {},
   "outputs": [
    {
     "name": "stdout",
     "output_type": "stream",
     "text": [
      "Model: \"sequential\"\n",
      "_________________________________________________________________\n",
      "Layer (type)                 Output Shape              Param #   \n",
      "=================================================================\n",
      "conv2d (Conv2D)              (None, 148, 148, 64)      1792      \n",
      "_________________________________________________________________\n",
      "max_pooling2d (MaxPooling2D) (None, 74, 74, 64)        0         \n",
      "_________________________________________________________________\n",
      "conv2d_1 (Conv2D)            (None, 72, 72, 64)        36928     \n",
      "_________________________________________________________________\n",
      "max_pooling2d_1 (MaxPooling2 (None, 36, 36, 64)        0         \n",
      "_________________________________________________________________\n",
      "conv2d_2 (Conv2D)            (None, 34, 34, 128)       73856     \n",
      "_________________________________________________________________\n",
      "max_pooling2d_2 (MaxPooling2 (None, 17, 17, 128)       0         \n",
      "_________________________________________________________________\n",
      "conv2d_3 (Conv2D)            (None, 15, 15, 128)       147584    \n",
      "_________________________________________________________________\n",
      "max_pooling2d_3 (MaxPooling2 (None, 7, 7, 128)         0         \n",
      "_________________________________________________________________\n",
      "flatten (Flatten)            (None, 6272)              0         \n",
      "_________________________________________________________________\n",
      "dropout (Dropout)            (None, 6272)              0         \n",
      "_________________________________________________________________\n",
      "dense (Dense)                (None, 512)               3211776   \n",
      "_________________________________________________________________\n",
      "dense_1 (Dense)              (None, 28)                14364     \n",
      "=================================================================\n",
      "Total params: 3,486,300\n",
      "Trainable params: 3,486,300\n",
      "Non-trainable params: 0\n",
      "_________________________________________________________________\n",
      "WARNING:tensorflow:sample_weight modes were coerced from\n",
      "  ...\n",
      "    to  \n",
      "  ['...']\n",
      "WARNING:tensorflow:sample_weight modes were coerced from\n",
      "  ...\n",
      "    to  \n",
      "  ['...']\n",
      "Train for 20 steps, validate for 3 steps\n",
      "Epoch 1/25\n",
      "20/20 [==============================] - 81s 4s/step - loss: 3.3512 - accuracy: 0.0440 - val_loss: 3.2343 - val_accuracy: 0.1270\n",
      "Epoch 2/25\n",
      "20/20 [==============================] - 81s 4s/step - loss: 3.2625 - accuracy: 0.0698 - val_loss: 3.1182 - val_accuracy: 0.1640\n",
      "Epoch 3/25\n",
      "20/20 [==============================] - 81s 4s/step - loss: 3.1826 - accuracy: 0.0996 - val_loss: 2.8184 - val_accuracy: 0.1984\n",
      "Epoch 4/25\n",
      "20/20 [==============================] - 82s 4s/step - loss: 3.0565 - accuracy: 0.1246 - val_loss: 2.6174 - val_accuracy: 0.1772\n",
      "Epoch 5/25\n",
      "20/20 [==============================] - 82s 4s/step - loss: 2.9586 - accuracy: 0.1353 - val_loss: 2.3946 - val_accuracy: 0.3466\n",
      "Epoch 6/25\n",
      "20/20 [==============================] - 81s 4s/step - loss: 2.7980 - accuracy: 0.1893 - val_loss: 2.3375 - val_accuracy: 0.2937\n",
      "Epoch 7/25\n",
      "20/20 [==============================] - 83s 4s/step - loss: 2.7405 - accuracy: 0.1909 - val_loss: 2.1429 - val_accuracy: 0.3995\n",
      "Epoch 8/25\n",
      "20/20 [==============================] - 81s 4s/step - loss: 2.6211 - accuracy: 0.2246 - val_loss: 2.0501 - val_accuracy: 0.4153\n",
      "Epoch 9/25\n",
      "20/20 [==============================] - 81s 4s/step - loss: 2.5162 - accuracy: 0.2556 - val_loss: 1.7474 - val_accuracy: 0.4444\n",
      "Epoch 10/25\n",
      "20/20 [==============================] - 81s 4s/step - loss: 2.4482 - accuracy: 0.2742 - val_loss: 1.6593 - val_accuracy: 0.5159\n",
      "Epoch 11/25\n",
      "20/20 [==============================] - 81s 4s/step - loss: 2.3394 - accuracy: 0.2845 - val_loss: 1.7700 - val_accuracy: 0.4577\n",
      "Epoch 12/25\n",
      "20/20 [==============================] - 81s 4s/step - loss: 2.3133 - accuracy: 0.3024 - val_loss: 1.6725 - val_accuracy: 0.4630\n",
      "Epoch 13/25\n",
      "20/20 [==============================] - 80s 4s/step - loss: 2.1940 - accuracy: 0.3386 - val_loss: 1.3886 - val_accuracy: 0.5820\n",
      "Epoch 14/25\n",
      "20/20 [==============================] - 80s 4s/step - loss: 2.0837 - accuracy: 0.3655 - val_loss: 1.2192 - val_accuracy: 0.5979\n",
      "Epoch 15/25\n",
      "20/20 [==============================] - 80s 4s/step - loss: 2.0434 - accuracy: 0.3671 - val_loss: 1.3443 - val_accuracy: 0.5635\n",
      "Epoch 16/25\n",
      "20/20 [==============================] - 81s 4s/step - loss: 1.9908 - accuracy: 0.3937 - val_loss: 1.3387 - val_accuracy: 0.5767\n",
      "Epoch 17/25\n",
      "20/20 [==============================] - 79s 4s/step - loss: 1.8953 - accuracy: 0.4120 - val_loss: 1.2827 - val_accuracy: 0.5582\n",
      "Epoch 18/25\n",
      "20/20 [==============================] - 81s 4s/step - loss: 1.8187 - accuracy: 0.4365 - val_loss: 1.2243 - val_accuracy: 0.6323\n",
      "Epoch 19/25\n",
      "20/20 [==============================] - 81s 4s/step - loss: 1.7844 - accuracy: 0.4544 - val_loss: 1.2005 - val_accuracy: 0.6481\n",
      "Epoch 20/25\n",
      "20/20 [==============================] - 80s 4s/step - loss: 1.7585 - accuracy: 0.4468 - val_loss: 1.0030 - val_accuracy: 0.7116\n",
      "Epoch 21/25\n",
      "20/20 [==============================] - 80s 4s/step - loss: 1.6871 - accuracy: 0.4778 - val_loss: 0.9426 - val_accuracy: 0.6984\n",
      "Epoch 22/25\n",
      "20/20 [==============================] - 80s 4s/step - loss: 1.6729 - accuracy: 0.4774 - val_loss: 1.3761 - val_accuracy: 0.5106\n",
      "Epoch 23/25\n",
      "20/20 [==============================] - 81s 4s/step - loss: 1.5564 - accuracy: 0.5075 - val_loss: 1.0426 - val_accuracy: 0.6772\n",
      "Epoch 24/25\n",
      "20/20 [==============================] - 81s 4s/step - loss: 1.5351 - accuracy: 0.5048 - val_loss: 0.8699 - val_accuracy: 0.7169\n",
      "Epoch 25/25\n",
      "20/20 [==============================] - 80s 4s/step - loss: 1.5298 - accuracy: 0.5198 - val_loss: 0.8463 - val_accuracy: 0.7328\n"
     ]
    }
   ],
   "source": [
    "model = tf.keras.models.Sequential([\n",
    "    # Note the input shape is the desired size of the image 150x150 with 3 bytes color\n",
    "    # This is the first convolution\n",
    "    tf.keras.layers.Conv2D(64, (3,3), activation='relu', input_shape=(150, 150,3 )),\n",
    "    tf.keras.layers.MaxPooling2D(2, 2),\n",
    "    # The second convolution\n",
    "    tf.keras.layers.Conv2D(64, (3,3), activation='relu'),\n",
    "    tf.keras.layers.MaxPooling2D(2,2),\n",
    "    # The third convolution\n",
    "    tf.keras.layers.Conv2D(128, (3,3), activation='relu'),\n",
    "    tf.keras.layers.MaxPooling2D(2,2),\n",
    "    # The fourth convolution\n",
    "    tf.keras.layers.Conv2D(128, (3,3), activation='relu'),\n",
    "    tf.keras.layers.MaxPooling2D(2,2),\n",
    "    # Flatten the results to feed into a DNN\n",
    "    tf.keras.layers.Flatten(),\n",
    "    tf.keras.layers.Dropout(0.5),\n",
    "    # 512 neuron hidden layer\n",
    "    tf.keras.layers.Dense(512, activation='relu'),\n",
    "    tf.keras.layers.Dense(28, activation='softmax')\n",
    "])\n",
    "\n",
    "\n",
    "model.summary()\n",
    "\n",
    "model.compile(loss = 'categorical_crossentropy', optimizer='rmsprop', metrics=['accuracy'])\n",
    "\n",
    "history = model.fit(train_generator, epochs=25, steps_per_epoch=20, validation_data = validation_generator, verbose = 1, validation_steps=3)\n",
    "\n"
   ]
  },
  {
   "cell_type": "markdown",
   "metadata": {},
   "source": [
    "# Without Data Augmentation"
   ]
  },
  {
   "cell_type": "code",
   "execution_count": 65,
   "metadata": {},
   "outputs": [],
   "source": [
    "# Python packages to manipulate files\n",
    "import os\n",
    "import pathlib\n",
    "from pathlib import Path\n",
    "import datetime\n",
    "# Tensorflow and Numpy packages\n",
    "import tensorflow as tf\n",
    "import numpy as np\n",
    "\n",
    "# Display related packages\n",
    "import matplotlib.pyplot as plt\n",
    "import matplotlib.image as mpimg\n",
    "from IPython.display import Image\n",
    "import PIL\n",
    "import PIL.Image\n"
   ]
  },
  {
   "cell_type": "code",
   "execution_count": 66,
   "metadata": {},
   "outputs": [],
   "source": [
    "directory = \"C:/Users/inesa/Desktop/data/train_data/\"\n",
    "images = os.listdir(dir)"
   ]
  },
  {
   "cell_type": "code",
   "execution_count": 67,
   "metadata": {},
   "outputs": [
    {
     "data": {
      "image/png": "[encoded data removed]",
      "text/plain": [
       "<Figure size 576x576 with 16 Axes>"
      ]
     },
     "metadata": {
      "needs_background": "light"
     },
     "output_type": "display_data"
    }
   ],
   "source": [
    "ncols = 4\n",
    "nrows = 4\n",
    "\n",
    "fig = plt.gcf()\n",
    "fig.set_size_inches(ncols*2, nrows*2)\n",
    "\n",
    "for i, img_path in enumerate(images[0:ncols*nrows]):\n",
    "    sp = plt.subplot(nrows, ncols, i + 1)\n",
    "    sp.axis('Off') # Disable axes display\n",
    "\n",
    "    img = mpimg.imread(directory+img_path)\n",
    "    plt.imshow(img)\n",
    "\n",
    "plt.show()"
   ]
  },
  {
   "cell_type": "code",
   "execution_count": 68,
   "metadata": {},
   "outputs": [],
   "source": [
    "batch_size = 32\n",
    "img_height = 32\n",
    "img_width = 32\n",
    "\n",
    "def get_dataset(dataset_dir):\n",
    "    \n",
    "    def process_filename(file_path):\n",
    "        label = tf.strings.regex_replace(input=file_path,pattern=r\".+_label_(\\d+)\\.png\", rewrite=r\"\\1\")\n",
    "        label = tf.strings.to_number(label, tf.int32)-1\n",
    "        #label = tf.one_hot(label, depth=29)\n",
    "        return label\n",
    "\n",
    "    def process_img(file_path):\n",
    "\n",
    "        img = tf.io.read_file(file_path)\n",
    "        img = tf.image.decode_png(img, channels=3)\n",
    "        img = tf.image.resize(img, size=(32, 32))\n",
    "        img = tf.image.convert_image_dtype(img, tf.float32)\n",
    "        img = tf.cast(img, tf.float32) / 255.0\n",
    "        return img\n",
    "    \n",
    "    data_dir = pathlib.Path(dataset_dir)\n",
    "    file_list = [str(path.absolute()) for path in Path(data_dir).glob(\"*.png\")]\n",
    "    files_ds = tf.data.Dataset.from_tensor_slices((file_list))\n",
    "    files_ds = files_ds.map(lambda x: (process_img(x), process_filename(x)))\n",
    "    return files_ds"
   ]
  },
  {
   "cell_type": "code",
   "execution_count": 69,
   "metadata": {},
   "outputs": [],
   "source": [
    "train_dataset_path = \"C:/Users/inesa/Desktop/data/train_data\"\n",
    "test_dataset_path = \"C:/Users/inesa/Desktop/data/test_data\"\n",
    "\n",
    "train_ds = get_dataset(train_dataset_path).shuffle(buffer_size=batch_size*10).batch(batch_size)\n",
    "valid_ds = get_dataset(test_dataset_path).batch(batch_size)"
   ]
  },
  {
   "cell_type": "code",
   "execution_count": 71,
   "metadata": {},
   "outputs": [],
   "source": [
    "model2 = tf.keras.models.Sequential([\n",
    "    # Note the input shape is the desired size of the image 150x150 with 3 bytes color\n",
    "    # This is the first convolution\n",
    "    tf.keras.layers.Conv2D(64, (3,3), activation='relu', input_shape=(150, 150,3 )),\n",
    "    tf.keras.layers.MaxPooling2D(2, 2),\n",
    "    # The second convolution\n",
    "    tf.keras.layers.Conv2D(64, (3,3), activation='relu'),\n",
    "    tf.keras.layers.MaxPooling2D(2,2),\n",
    "    # The third convolution\n",
    "    tf.keras.layers.Conv2D(128, (3,3), activation='relu'),\n",
    "    tf.keras.layers.MaxPooling2D(2,2),\n",
    "    # The fourth convolution\n",
    "    tf.keras.layers.Conv2D(128, (3,3), activation='relu'),\n",
    "    tf.keras.layers.MaxPooling2D(2,2),\n",
    "    # Flatten the results to feed into a DNN\n",
    "    tf.keras.layers.Flatten(),\n",
    "    tf.keras.layers.Dropout(0.5),\n",
    "    # 512 neuron hidden layer\n",
    "    tf.keras.layers.Dense(512, activation='relu'),\n",
    "    tf.keras.layers.Dense(28, activation='softmax')\n",
    "])\n",
    "\n",
    "\n",
    "\n"
   ]
  },
  {
   "cell_type": "code",
   "execution_count": 72,
   "metadata": {},
   "outputs": [
    {
     "name": "stdout",
     "output_type": "stream",
     "text": [
      "Model: \"sequential_1\"\n",
      "_________________________________________________________________\n",
      "Layer (type)                 Output Shape              Param #   \n",
      "=================================================================\n",
      "conv2d_4 (Conv2D)            (None, 148, 148, 64)      1792      \n",
      "_________________________________________________________________\n",
      "max_pooling2d_4 (MaxPooling2 (None, 74, 74, 64)        0         \n",
      "_________________________________________________________________\n",
      "conv2d_5 (Conv2D)            (None, 72, 72, 64)        36928     \n",
      "_________________________________________________________________\n",
      "max_pooling2d_5 (MaxPooling2 (None, 36, 36, 64)        0         \n",
      "_________________________________________________________________\n",
      "conv2d_6 (Conv2D)            (None, 34, 34, 128)       73856     \n",
      "_________________________________________________________________\n",
      "max_pooling2d_6 (MaxPooling2 (None, 17, 17, 128)       0         \n",
      "_________________________________________________________________\n",
      "conv2d_7 (Conv2D)            (None, 15, 15, 128)       147584    \n",
      "_________________________________________________________________\n",
      "max_pooling2d_7 (MaxPooling2 (None, 7, 7, 128)         0         \n",
      "_________________________________________________________________\n",
      "flatten_1 (Flatten)          (None, 6272)              0         \n",
      "_________________________________________________________________\n",
      "dropout_1 (Dropout)          (None, 6272)              0         \n",
      "_________________________________________________________________\n",
      "dense_2 (Dense)              (None, 512)               3211776   \n",
      "_________________________________________________________________\n",
      "dense_3 (Dense)              (None, 28)                14364     \n",
      "=================================================================\n",
      "Total params: 3,486,300\n",
      "Trainable params: 3,486,300\n",
      "Non-trainable params: 0\n",
      "_________________________________________________________________\n"
     ]
    }
   ],
   "source": [
    "model2.summary()\n",
    "\n"
   ]
  },
  {
   "cell_type": "code",
   "execution_count": 73,
   "metadata": {},
   "outputs": [
    {
     "name": "stdout",
     "output_type": "stream",
     "text": [
      "WARNING:tensorflow:sample_weight modes were coerced from\n",
      "  ...\n",
      "    to  \n",
      "  ['...']\n",
      "WARNING:tensorflow:sample_weight modes were coerced from\n",
      "  ...\n",
      "    to  \n",
      "  ['...']\n",
      "Train for 20 steps, validate for 3 steps\n",
      "Epoch 1/25\n",
      "20/20 [==============================] - 142s 7s/step - loss: 3.3690 - accuracy: 0.0401 - val_loss: 3.2670 - val_accuracy: 0.1005\n",
      "Epoch 2/25\n",
      "20/20 [==============================] - 133s 7s/step - loss: 3.2656 - accuracy: 0.0770 - val_loss: 3.0255 - val_accuracy: 0.1772\n",
      "Epoch 3/25\n",
      "20/20 [==============================] - 124s 6s/step - loss: 3.1369 - accuracy: 0.0985 - val_loss: 2.6838 - val_accuracy: 0.2487\n",
      "Epoch 4/25\n",
      "20/20 [==============================] - 125s 6s/step - loss: 3.0193 - accuracy: 0.1329 - val_loss: 2.5425 - val_accuracy: 0.2275\n",
      "Epoch 5/25\n",
      "20/20 [==============================] - 135s 7s/step - loss: 2.9208 - accuracy: 0.1548 - val_loss: 2.4603 - val_accuracy: 0.3360\n",
      "Epoch 6/25\n",
      "20/20 [==============================] - 129s 6s/step - loss: 2.7824 - accuracy: 0.1913 - val_loss: 2.1997 - val_accuracy: 0.3862\n",
      "Epoch 7/25\n",
      "20/20 [==============================] - 133s 7s/step - loss: 2.6889 - accuracy: 0.2020 - val_loss: 2.2610 - val_accuracy: 0.3492\n",
      "Epoch 8/25\n",
      "20/20 [==============================] - 132s 7s/step - loss: 2.6169 - accuracy: 0.2190 - val_loss: 2.0491 - val_accuracy: 0.3915\n",
      "Epoch 9/25\n",
      "20/20 [==============================] - 132s 7s/step - loss: 2.5555 - accuracy: 0.2302 - val_loss: 1.7987 - val_accuracy: 0.4656\n",
      "Epoch 10/25\n",
      "20/20 [==============================] - 132s 7s/step - loss: 2.4001 - accuracy: 0.2905 - val_loss: 1.6011 - val_accuracy: 0.5450\n",
      "Epoch 11/25\n",
      "20/20 [==============================] - 131s 7s/step - loss: 2.3447 - accuracy: 0.3079 - val_loss: 1.5176 - val_accuracy: 0.5608\n",
      "Epoch 12/25\n",
      "20/20 [==============================] - 131s 7s/step - loss: 2.2402 - accuracy: 0.3349 - val_loss: 1.4762 - val_accuracy: 0.5423\n",
      "Epoch 13/25\n",
      "20/20 [==============================] - 132s 7s/step - loss: 2.1962 - accuracy: 0.3270 - val_loss: 1.4953 - val_accuracy: 0.5185\n",
      "Epoch 14/25\n",
      "20/20 [==============================] - 131s 7s/step - loss: 2.0774 - accuracy: 0.3607 - val_loss: 1.3621 - val_accuracy: 0.5767\n",
      "Epoch 15/25\n",
      "20/20 [==============================] - 147s 7s/step - loss: 2.0599 - accuracy: 0.3635 - val_loss: 1.2539 - val_accuracy: 0.6111\n",
      "Epoch 16/25\n",
      "20/20 [==============================] - 142s 7s/step - loss: 1.9446 - accuracy: 0.4091 - val_loss: 1.3769 - val_accuracy: 0.5899\n",
      "Epoch 17/25\n",
      "20/20 [==============================] - 134s 7s/step - loss: 1.8937 - accuracy: 0.4201 - val_loss: 1.4735 - val_accuracy: 0.5238\n",
      "Epoch 18/25\n",
      "20/20 [==============================] - 146s 7s/step - loss: 1.8420 - accuracy: 0.4197 - val_loss: 1.0474 - val_accuracy: 0.6614\n",
      "Epoch 19/25\n",
      "20/20 [==============================] - 138s 7s/step - loss: 1.8003 - accuracy: 0.4444 - val_loss: 1.0475 - val_accuracy: 0.6931\n",
      "Epoch 20/25\n",
      "20/20 [==============================] - 136s 7s/step - loss: 1.7358 - accuracy: 0.4583 - val_loss: 1.0723 - val_accuracy: 0.6402\n",
      "Epoch 21/25\n",
      "20/20 [==============================] - 140s 7s/step - loss: 1.6792 - accuracy: 0.4536 - val_loss: 1.0617 - val_accuracy: 0.6667\n",
      "Epoch 22/25\n",
      "20/20 [==============================] - 134s 7s/step - loss: 1.6248 - accuracy: 0.4919 - val_loss: 0.9630 - val_accuracy: 0.6984\n",
      "Epoch 23/25\n",
      "20/20 [==============================] - 153s 8s/step - loss: 1.5964 - accuracy: 0.4935 - val_loss: 0.9162 - val_accuracy: 0.7090\n",
      "Epoch 24/25\n",
      "20/20 [==============================] - 9296s 465s/step - loss: 1.5480 - accuracy: 0.5129 - val_loss: 0.7918 - val_accuracy: 0.7513\n",
      "Epoch 25/25\n",
      "20/20 [==============================] - 175s 9s/step - loss: 1.5302 - accuracy: 0.5210 - val_loss: 0.8697 - val_accuracy: 0.7275\n"
     ]
    }
   ],
   "source": [
    "model2.compile(loss = 'categorical_crossentropy', optimizer='rmsprop', metrics=['accuracy'])\n",
    "\n",
    "history = model2.fit(train_generator, epochs=25, steps_per_epoch=20, validation_data = validation_generator, verbose = 1, validation_steps=3)\n"
   ]
  },
  {
   "cell_type": "code",
   "execution_count": null,
   "metadata": {},
   "outputs": [],
   "source": []
  },
  {
   "cell_type": "code",
   "execution_count": 80,
   "metadata": {},
   "outputs": [
    {
     "ename": "ModuleNotFoundError",
     "evalue": "No module named 'termios'",
     "output_type": "error",
     "traceback": [
      "\u001b[1;31m---------------------------------------------------------------------------\u001b[0m",
      "\u001b[1;31mModuleNotFoundError\u001b[0m                       Traceback (most recent call last)",
      "\u001b[1;32m<ipython-input-80-76fdf336f788>\u001b[0m in \u001b[0;36m<module>\u001b[1;34m\u001b[0m\n\u001b[0;32m      1\u001b[0m \u001b[1;32mimport\u001b[0m \u001b[0mnumpy\u001b[0m \u001b[1;32mas\u001b[0m \u001b[0mnp\u001b[0m\u001b[1;33m\u001b[0m\u001b[1;33m\u001b[0m\u001b[0m\n\u001b[1;32m----> 2\u001b[1;33m \u001b[1;32mfrom\u001b[0m \u001b[0mgoogle\u001b[0m\u001b[1;33m.\u001b[0m\u001b[0mcolab\u001b[0m \u001b[1;32mimport\u001b[0m \u001b[0mfiles\u001b[0m\u001b[1;33m\u001b[0m\u001b[1;33m\u001b[0m\u001b[0m\n\u001b[0m\u001b[0;32m      3\u001b[0m \u001b[1;32mfrom\u001b[0m \u001b[0mkeras\u001b[0m\u001b[1;33m.\u001b[0m\u001b[0mpreprocessing\u001b[0m \u001b[1;32mimport\u001b[0m \u001b[0mimage\u001b[0m\u001b[1;33m\u001b[0m\u001b[1;33m\u001b[0m\u001b[0m\n",
      "\u001b[1;32m~\\anaconda3\\envs\\DeepLearning\\lib\\site-packages\\google\\colab\\__init__.py\u001b[0m in \u001b[0;36m<module>\u001b[1;34m\u001b[0m\n\u001b[0;32m     21\u001b[0m \u001b[1;32mfrom\u001b[0m \u001b[0mgoogle\u001b[0m\u001b[1;33m.\u001b[0m\u001b[0mcolab\u001b[0m \u001b[1;32mimport\u001b[0m \u001b[0m_installation_commands\u001b[0m\u001b[1;33m\u001b[0m\u001b[1;33m\u001b[0m\u001b[0m\n\u001b[0;32m     22\u001b[0m \u001b[1;32mfrom\u001b[0m \u001b[0mgoogle\u001b[0m\u001b[1;33m.\u001b[0m\u001b[0mcolab\u001b[0m \u001b[1;32mimport\u001b[0m \u001b[0m_shell_customizations\u001b[0m\u001b[1;33m\u001b[0m\u001b[1;33m\u001b[0m\u001b[0m\n\u001b[1;32m---> 23\u001b[1;33m \u001b[1;32mfrom\u001b[0m \u001b[0mgoogle\u001b[0m\u001b[1;33m.\u001b[0m\u001b[0mcolab\u001b[0m \u001b[1;32mimport\u001b[0m \u001b[0m_system_commands\u001b[0m\u001b[1;33m\u001b[0m\u001b[1;33m\u001b[0m\u001b[0m\n\u001b[0m\u001b[0;32m     24\u001b[0m \u001b[1;32mfrom\u001b[0m \u001b[0mgoogle\u001b[0m\u001b[1;33m.\u001b[0m\u001b[0mcolab\u001b[0m \u001b[1;32mimport\u001b[0m \u001b[0m_tensorflow_magics\u001b[0m\u001b[1;33m\u001b[0m\u001b[1;33m\u001b[0m\u001b[0m\n\u001b[0;32m     25\u001b[0m \u001b[1;32mfrom\u001b[0m \u001b[0mgoogle\u001b[0m\u001b[1;33m.\u001b[0m\u001b[0mcolab\u001b[0m \u001b[1;32mimport\u001b[0m \u001b[0mauth\u001b[0m\u001b[1;33m\u001b[0m\u001b[1;33m\u001b[0m\u001b[0m\n",
      "\u001b[1;32m~\\anaconda3\\envs\\DeepLearning\\lib\\site-packages\\google\\colab\\_system_commands.py\u001b[0m in \u001b[0;36m<module>\u001b[1;34m\u001b[0m\n\u001b[0;32m     22\u001b[0m \u001b[1;32mimport\u001b[0m \u001b[0mlocale\u001b[0m\u001b[1;33m\u001b[0m\u001b[1;33m\u001b[0m\u001b[0m\n\u001b[0;32m     23\u001b[0m \u001b[1;32mimport\u001b[0m \u001b[0mos\u001b[0m\u001b[1;33m\u001b[0m\u001b[1;33m\u001b[0m\u001b[0m\n\u001b[1;32m---> 24\u001b[1;33m \u001b[1;32mimport\u001b[0m \u001b[0mpty\u001b[0m\u001b[1;33m\u001b[0m\u001b[1;33m\u001b[0m\u001b[0m\n\u001b[0m\u001b[0;32m     25\u001b[0m \u001b[1;32mimport\u001b[0m \u001b[0mselect\u001b[0m\u001b[1;33m\u001b[0m\u001b[1;33m\u001b[0m\u001b[0m\n\u001b[0;32m     26\u001b[0m \u001b[1;32mimport\u001b[0m \u001b[0msignal\u001b[0m\u001b[1;33m\u001b[0m\u001b[1;33m\u001b[0m\u001b[0m\n",
      "\u001b[1;32m~\\anaconda3\\envs\\DeepLearning\\lib\\pty.py\u001b[0m in \u001b[0;36m<module>\u001b[1;34m\u001b[0m\n\u001b[0;32m      9\u001b[0m \u001b[1;32mfrom\u001b[0m \u001b[0mselect\u001b[0m \u001b[1;32mimport\u001b[0m \u001b[0mselect\u001b[0m\u001b[1;33m\u001b[0m\u001b[1;33m\u001b[0m\u001b[0m\n\u001b[0;32m     10\u001b[0m \u001b[1;32mimport\u001b[0m \u001b[0mos\u001b[0m\u001b[1;33m\u001b[0m\u001b[1;33m\u001b[0m\u001b[0m\n\u001b[1;32m---> 11\u001b[1;33m \u001b[1;32mimport\u001b[0m \u001b[0mtty\u001b[0m\u001b[1;33m\u001b[0m\u001b[1;33m\u001b[0m\u001b[0m\n\u001b[0m\u001b[0;32m     12\u001b[0m \u001b[1;33m\u001b[0m\u001b[0m\n\u001b[0;32m     13\u001b[0m \u001b[0m__all__\u001b[0m \u001b[1;33m=\u001b[0m \u001b[1;33m[\u001b[0m\u001b[1;34m\"openpty\"\u001b[0m\u001b[1;33m,\u001b[0m\u001b[1;34m\"fork\"\u001b[0m\u001b[1;33m,\u001b[0m\u001b[1;34m\"spawn\"\u001b[0m\u001b[1;33m]\u001b[0m\u001b[1;33m\u001b[0m\u001b[1;33m\u001b[0m\u001b[0m\n",
      "\u001b[1;32m~\\anaconda3\\envs\\DeepLearning\\lib\\tty.py\u001b[0m in \u001b[0;36m<module>\u001b[1;34m\u001b[0m\n\u001b[0;32m      3\u001b[0m \u001b[1;31m# Author: Steen Lumholt.\u001b[0m\u001b[1;33m\u001b[0m\u001b[1;33m\u001b[0m\u001b[1;33m\u001b[0m\u001b[0m\n\u001b[0;32m      4\u001b[0m \u001b[1;33m\u001b[0m\u001b[0m\n\u001b[1;32m----> 5\u001b[1;33m \u001b[1;32mfrom\u001b[0m \u001b[0mtermios\u001b[0m \u001b[1;32mimport\u001b[0m \u001b[1;33m*\u001b[0m\u001b[1;33m\u001b[0m\u001b[1;33m\u001b[0m\u001b[0m\n\u001b[0m\u001b[0;32m      6\u001b[0m \u001b[1;33m\u001b[0m\u001b[0m\n\u001b[0;32m      7\u001b[0m \u001b[0m__all__\u001b[0m \u001b[1;33m=\u001b[0m \u001b[1;33m[\u001b[0m\u001b[1;34m\"setraw\"\u001b[0m\u001b[1;33m,\u001b[0m \u001b[1;34m\"setcbreak\"\u001b[0m\u001b[1;33m]\u001b[0m\u001b[1;33m\u001b[0m\u001b[1;33m\u001b[0m\u001b[0m\n",
      "\u001b[1;31mModuleNotFoundError\u001b[0m: No module named 'termios'"
     ]
    }
   ],
   "source": [
    "\n",
    "from keras.preprocessing import image"
   ]
  },
  {
   "cell_type": "code",
   "execution_count": null,
   "metadata": {},
   "outputs": [],
   "source": []
  },
  {
   "cell_type": "code",
   "execution_count": null,
   "metadata": {},
   "outputs": [],
   "source": []
  },
  {
   "cell_type": "code",
   "execution_count": null,
   "metadata": {},
   "outputs": [],
   "source": []
  },
  {
   "cell_type": "code",
   "execution_count": null,
   "metadata": {},
   "outputs": [],
   "source": []
  },
  {
   "cell_type": "code",
   "execution_count": null,
   "metadata": {},
   "outputs": [],
   "source": []
  },
  {
   "cell_type": "markdown",
   "metadata": {},
   "source": [
    "# The model on which we have applied data augmentation has a slightly smaller loss "
   ]
  },
  {
   "cell_type": "markdown",
   "metadata": {},
   "source": [
    "# Predicting "
   ]
  },
  {
   "cell_type": "code",
   "execution_count": 89,
   "metadata": {},
   "outputs": [],
   "source": [
    "import numpy as np\n"
   ]
  },
  {
   "cell_type": "code",
   "execution_count": null,
   "metadata": {},
   "outputs": [],
   "source": [
    "\n",
    "uploaded = files.upload()\n",
    "\n",
    "for fn in uploaded.keys():\n",
    " \n",
    "  # predicting images\n",
    "  path = fn\n",
    "  img = image.load_img(path, target_size=(150, 150))\n",
    "  x = image.img_to_array(img)\n",
    "  x = np.expand_dims(x, axis=0)\n",
    "\n",
    "  images = np.vstack([x])\n",
    "  classes = model.predict(images, batch_size=10)\n",
    "  print(fn)\n",
    "  print(classes)"
   ]
  },
  {
   "cell_type": "code",
   "execution_count": null,
   "metadata": {},
   "outputs": [],
   "source": []
  },
  {
   "cell_type": "code",
   "execution_count": null,
   "metadata": {},
   "outputs": [],
   "source": []
  }
 ],
 "metadata": {
  "kernelspec": {
   "display_name": "Python 3",
   "language": "python",
   "name": "python3"
  },
  "language_info": {
   "codemirror_mode": {
    "name": "ipython",
    "version": 3
   },
   "file_extension": ".py",
   "mimetype": "text/x-python",
   "name": "python",
   "nbconvert_exporter": "python",
   "pygments_lexer": "ipython3",
   "version": "3.7.9"
  }
 },
 "nbformat": 4,
 "nbformat_minor": 4
}
